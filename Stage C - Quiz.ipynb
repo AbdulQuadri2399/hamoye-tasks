{
 "cells": [
  {
   "cell_type": "markdown",
   "metadata": {},
   "source": [
    "### Importing some required modules"
   ]
  },
  {
   "cell_type": "code",
   "execution_count": 1,
   "metadata": {},
   "outputs": [],
   "source": [
    "import numpy as np\n",
    "import pandas as pd\n",
    "import matplotlib.pyplot as plt\n",
    "import seaborn as sns\n",
    "from sklearn.preprocessing import StandardScaler\n",
    "from sklearn.model_selection import train_test_split\n",
    "from imblearn.over_sampling import SMOTE\n",
    "import matplotlib.pyplot as plt\n",
    "import seaborn as sns\n",
    "from sklearn.metrics import f1_score, precision_score, accuracy_score, confusion_matrix, recall_score, roc_curve"
   ]
  },
  {
   "cell_type": "code",
   "execution_count": 2,
   "metadata": {},
   "outputs": [],
   "source": [
    "data = pd.read_csv('../Data_for_UCI_named.csv')"
   ]
  },
  {
   "cell_type": "code",
   "execution_count": 57,
   "metadata": {},
   "outputs": [
    {
     "data": {
      "text/html": [
       "<div>\n",
       "<style scoped>\n",
       "    .dataframe tbody tr th:only-of-type {\n",
       "        vertical-align: middle;\n",
       "    }\n",
       "\n",
       "    .dataframe tbody tr th {\n",
       "        vertical-align: top;\n",
       "    }\n",
       "\n",
       "    .dataframe thead th {\n",
       "        text-align: right;\n",
       "    }\n",
       "</style>\n",
       "<table border=\"1\" class=\"dataframe\">\n",
       "  <thead>\n",
       "    <tr style=\"text-align: right;\">\n",
       "      <th></th>\n",
       "      <th>tau1</th>\n",
       "      <th>tau2</th>\n",
       "      <th>tau3</th>\n",
       "      <th>tau4</th>\n",
       "      <th>p1</th>\n",
       "      <th>p2</th>\n",
       "      <th>p3</th>\n",
       "      <th>p4</th>\n",
       "      <th>g1</th>\n",
       "      <th>g2</th>\n",
       "      <th>g3</th>\n",
       "      <th>g4</th>\n",
       "      <th>stab</th>\n",
       "      <th>stabf</th>\n",
       "    </tr>\n",
       "  </thead>\n",
       "  <tbody>\n",
       "    <tr>\n",
       "      <th>0</th>\n",
       "      <td>2.959060</td>\n",
       "      <td>3.079885</td>\n",
       "      <td>8.381025</td>\n",
       "      <td>9.780754</td>\n",
       "      <td>3.763085</td>\n",
       "      <td>-0.782604</td>\n",
       "      <td>-1.257395</td>\n",
       "      <td>-1.723086</td>\n",
       "      <td>0.650456</td>\n",
       "      <td>0.859578</td>\n",
       "      <td>0.887445</td>\n",
       "      <td>0.958034</td>\n",
       "      <td>0.055347</td>\n",
       "      <td>unstable</td>\n",
       "    </tr>\n",
       "    <tr>\n",
       "      <th>1</th>\n",
       "      <td>9.304097</td>\n",
       "      <td>4.902524</td>\n",
       "      <td>3.047541</td>\n",
       "      <td>1.369357</td>\n",
       "      <td>5.067812</td>\n",
       "      <td>-1.940058</td>\n",
       "      <td>-1.872742</td>\n",
       "      <td>-1.255012</td>\n",
       "      <td>0.413441</td>\n",
       "      <td>0.862414</td>\n",
       "      <td>0.562139</td>\n",
       "      <td>0.781760</td>\n",
       "      <td>-0.005957</td>\n",
       "      <td>stable</td>\n",
       "    </tr>\n",
       "    <tr>\n",
       "      <th>2</th>\n",
       "      <td>8.971707</td>\n",
       "      <td>8.848428</td>\n",
       "      <td>3.046479</td>\n",
       "      <td>1.214518</td>\n",
       "      <td>3.405158</td>\n",
       "      <td>-1.207456</td>\n",
       "      <td>-1.277210</td>\n",
       "      <td>-0.920492</td>\n",
       "      <td>0.163041</td>\n",
       "      <td>0.766689</td>\n",
       "      <td>0.839444</td>\n",
       "      <td>0.109853</td>\n",
       "      <td>0.003471</td>\n",
       "      <td>unstable</td>\n",
       "    </tr>\n",
       "    <tr>\n",
       "      <th>3</th>\n",
       "      <td>0.716415</td>\n",
       "      <td>7.669600</td>\n",
       "      <td>4.486641</td>\n",
       "      <td>2.340563</td>\n",
       "      <td>3.963791</td>\n",
       "      <td>-1.027473</td>\n",
       "      <td>-1.938944</td>\n",
       "      <td>-0.997374</td>\n",
       "      <td>0.446209</td>\n",
       "      <td>0.976744</td>\n",
       "      <td>0.929381</td>\n",
       "      <td>0.362718</td>\n",
       "      <td>0.028871</td>\n",
       "      <td>unstable</td>\n",
       "    </tr>\n",
       "    <tr>\n",
       "      <th>4</th>\n",
       "      <td>3.134112</td>\n",
       "      <td>7.608772</td>\n",
       "      <td>4.943759</td>\n",
       "      <td>9.857573</td>\n",
       "      <td>3.525811</td>\n",
       "      <td>-1.125531</td>\n",
       "      <td>-1.845975</td>\n",
       "      <td>-0.554305</td>\n",
       "      <td>0.797110</td>\n",
       "      <td>0.455450</td>\n",
       "      <td>0.656947</td>\n",
       "      <td>0.820923</td>\n",
       "      <td>0.049860</td>\n",
       "      <td>unstable</td>\n",
       "    </tr>\n",
       "    <tr>\n",
       "      <th>5</th>\n",
       "      <td>6.999209</td>\n",
       "      <td>9.109247</td>\n",
       "      <td>3.784066</td>\n",
       "      <td>4.267788</td>\n",
       "      <td>4.429669</td>\n",
       "      <td>-1.857139</td>\n",
       "      <td>-0.670397</td>\n",
       "      <td>-1.902133</td>\n",
       "      <td>0.261793</td>\n",
       "      <td>0.077930</td>\n",
       "      <td>0.542884</td>\n",
       "      <td>0.469931</td>\n",
       "      <td>-0.017385</td>\n",
       "      <td>stable</td>\n",
       "    </tr>\n",
       "    <tr>\n",
       "      <th>6</th>\n",
       "      <td>6.710166</td>\n",
       "      <td>3.765204</td>\n",
       "      <td>6.929314</td>\n",
       "      <td>8.818562</td>\n",
       "      <td>2.397419</td>\n",
       "      <td>-0.614590</td>\n",
       "      <td>-1.208826</td>\n",
       "      <td>-0.574004</td>\n",
       "      <td>0.177890</td>\n",
       "      <td>0.397977</td>\n",
       "      <td>0.402046</td>\n",
       "      <td>0.376630</td>\n",
       "      <td>0.005954</td>\n",
       "      <td>unstable</td>\n",
       "    </tr>\n",
       "    <tr>\n",
       "      <th>7</th>\n",
       "      <td>6.953512</td>\n",
       "      <td>1.379125</td>\n",
       "      <td>5.719400</td>\n",
       "      <td>7.870307</td>\n",
       "      <td>3.224495</td>\n",
       "      <td>-0.748998</td>\n",
       "      <td>-1.186517</td>\n",
       "      <td>-1.288980</td>\n",
       "      <td>0.371385</td>\n",
       "      <td>0.633204</td>\n",
       "      <td>0.732741</td>\n",
       "      <td>0.380544</td>\n",
       "      <td>0.016634</td>\n",
       "      <td>unstable</td>\n",
       "    </tr>\n",
       "    <tr>\n",
       "      <th>8</th>\n",
       "      <td>4.689852</td>\n",
       "      <td>4.007747</td>\n",
       "      <td>1.478573</td>\n",
       "      <td>3.733787</td>\n",
       "      <td>4.041300</td>\n",
       "      <td>-1.410344</td>\n",
       "      <td>-1.238204</td>\n",
       "      <td>-1.392751</td>\n",
       "      <td>0.269708</td>\n",
       "      <td>0.250364</td>\n",
       "      <td>0.164941</td>\n",
       "      <td>0.482439</td>\n",
       "      <td>-0.038677</td>\n",
       "      <td>stable</td>\n",
       "    </tr>\n",
       "    <tr>\n",
       "      <th>9</th>\n",
       "      <td>9.841496</td>\n",
       "      <td>1.413822</td>\n",
       "      <td>9.769856</td>\n",
       "      <td>7.641616</td>\n",
       "      <td>4.727595</td>\n",
       "      <td>-1.991363</td>\n",
       "      <td>-0.857637</td>\n",
       "      <td>-1.878594</td>\n",
       "      <td>0.376356</td>\n",
       "      <td>0.544415</td>\n",
       "      <td>0.792039</td>\n",
       "      <td>0.116263</td>\n",
       "      <td>0.012383</td>\n",
       "      <td>unstable</td>\n",
       "    </tr>\n",
       "    <tr>\n",
       "      <th>10</th>\n",
       "      <td>5.930110</td>\n",
       "      <td>6.730873</td>\n",
       "      <td>6.245138</td>\n",
       "      <td>0.533288</td>\n",
       "      <td>2.327092</td>\n",
       "      <td>-0.702501</td>\n",
       "      <td>-1.116920</td>\n",
       "      <td>-0.507671</td>\n",
       "      <td>0.239816</td>\n",
       "      <td>0.563110</td>\n",
       "      <td>0.164461</td>\n",
       "      <td>0.753701</td>\n",
       "      <td>-0.028411</td>\n",
       "      <td>stable</td>\n",
       "    </tr>\n",
       "    <tr>\n",
       "      <th>11</th>\n",
       "      <td>5.381299</td>\n",
       "      <td>8.014521</td>\n",
       "      <td>8.095174</td>\n",
       "      <td>6.769248</td>\n",
       "      <td>5.507551</td>\n",
       "      <td>-1.972714</td>\n",
       "      <td>-1.849333</td>\n",
       "      <td>-1.685505</td>\n",
       "      <td>0.359974</td>\n",
       "      <td>0.173569</td>\n",
       "      <td>0.349144</td>\n",
       "      <td>0.628860</td>\n",
       "      <td>0.028130</td>\n",
       "      <td>unstable</td>\n",
       "    </tr>\n",
       "    <tr>\n",
       "      <th>12</th>\n",
       "      <td>1.616787</td>\n",
       "      <td>2.939228</td>\n",
       "      <td>0.819791</td>\n",
       "      <td>4.191804</td>\n",
       "      <td>3.752282</td>\n",
       "      <td>-1.484885</td>\n",
       "      <td>-1.280581</td>\n",
       "      <td>-0.986816</td>\n",
       "      <td>0.899698</td>\n",
       "      <td>0.866546</td>\n",
       "      <td>0.303921</td>\n",
       "      <td>0.077610</td>\n",
       "      <td>-0.048617</td>\n",
       "      <td>stable</td>\n",
       "    </tr>\n",
       "    <tr>\n",
       "      <th>13</th>\n",
       "      <td>8.551598</td>\n",
       "      <td>8.314952</td>\n",
       "      <td>2.549964</td>\n",
       "      <td>9.926807</td>\n",
       "      <td>4.891714</td>\n",
       "      <td>-1.808626</td>\n",
       "      <td>-1.167061</td>\n",
       "      <td>-1.916026</td>\n",
       "      <td>0.612404</td>\n",
       "      <td>0.280983</td>\n",
       "      <td>0.354342</td>\n",
       "      <td>0.472192</td>\n",
       "      <td>0.027756</td>\n",
       "      <td>unstable</td>\n",
       "    </tr>\n",
       "    <tr>\n",
       "      <th>14</th>\n",
       "      <td>1.132108</td>\n",
       "      <td>2.920324</td>\n",
       "      <td>8.951079</td>\n",
       "      <td>7.248583</td>\n",
       "      <td>5.033681</td>\n",
       "      <td>-1.846080</td>\n",
       "      <td>-1.362777</td>\n",
       "      <td>-1.824824</td>\n",
       "      <td>0.352292</td>\n",
       "      <td>0.524173</td>\n",
       "      <td>0.599004</td>\n",
       "      <td>0.674390</td>\n",
       "      <td>0.014880</td>\n",
       "      <td>unstable</td>\n",
       "    </tr>\n",
       "    <tr>\n",
       "      <th>15</th>\n",
       "      <td>7.021362</td>\n",
       "      <td>4.374294</td>\n",
       "      <td>4.775904</td>\n",
       "      <td>8.838426</td>\n",
       "      <td>3.335857</td>\n",
       "      <td>-0.962392</td>\n",
       "      <td>-1.407627</td>\n",
       "      <td>-0.965839</td>\n",
       "      <td>0.711100</td>\n",
       "      <td>0.625364</td>\n",
       "      <td>0.468335</td>\n",
       "      <td>0.895143</td>\n",
       "      <td>0.072508</td>\n",
       "      <td>unstable</td>\n",
       "    </tr>\n",
       "    <tr>\n",
       "      <th>16</th>\n",
       "      <td>4.952241</td>\n",
       "      <td>8.088672</td>\n",
       "      <td>8.883319</td>\n",
       "      <td>5.694557</td>\n",
       "      <td>5.067296</td>\n",
       "      <td>-1.681414</td>\n",
       "      <td>-1.877061</td>\n",
       "      <td>-1.508820</td>\n",
       "      <td>0.305662</td>\n",
       "      <td>0.307904</td>\n",
       "      <td>0.889894</td>\n",
       "      <td>0.879428</td>\n",
       "      <td>0.065617</td>\n",
       "      <td>unstable</td>\n",
       "    </tr>\n",
       "    <tr>\n",
       "      <th>17</th>\n",
       "      <td>4.142830</td>\n",
       "      <td>2.439089</td>\n",
       "      <td>1.290456</td>\n",
       "      <td>9.456443</td>\n",
       "      <td>3.934796</td>\n",
       "      <td>-1.469299</td>\n",
       "      <td>-1.766941</td>\n",
       "      <td>-0.698556</td>\n",
       "      <td>0.800757</td>\n",
       "      <td>0.840807</td>\n",
       "      <td>0.917833</td>\n",
       "      <td>0.793982</td>\n",
       "      <td>-0.006966</td>\n",
       "      <td>stable</td>\n",
       "    </tr>\n",
       "    <tr>\n",
       "      <th>18</th>\n",
       "      <td>9.346126</td>\n",
       "      <td>7.920030</td>\n",
       "      <td>2.335276</td>\n",
       "      <td>3.269181</td>\n",
       "      <td>4.581174</td>\n",
       "      <td>-1.106753</td>\n",
       "      <td>-1.747078</td>\n",
       "      <td>-1.727344</td>\n",
       "      <td>0.836076</td>\n",
       "      <td>0.713254</td>\n",
       "      <td>0.161518</td>\n",
       "      <td>0.515983</td>\n",
       "      <td>0.041374</td>\n",
       "      <td>unstable</td>\n",
       "    </tr>\n",
       "    <tr>\n",
       "      <th>19</th>\n",
       "      <td>3.931954</td>\n",
       "      <td>9.180890</td>\n",
       "      <td>6.064480</td>\n",
       "      <td>6.292147</td>\n",
       "      <td>5.363996</td>\n",
       "      <td>-1.695085</td>\n",
       "      <td>-1.880273</td>\n",
       "      <td>-1.788638</td>\n",
       "      <td>0.837264</td>\n",
       "      <td>0.611781</td>\n",
       "      <td>0.210692</td>\n",
       "      <td>0.697465</td>\n",
       "      <td>0.052781</td>\n",
       "      <td>unstable</td>\n",
       "    </tr>\n",
       "  </tbody>\n",
       "</table>\n",
       "</div>"
      ],
      "text/plain": [
       "        tau1      tau2      tau3      tau4        p1        p2        p3  \\\n",
       "0   2.959060  3.079885  8.381025  9.780754  3.763085 -0.782604 -1.257395   \n",
       "1   9.304097  4.902524  3.047541  1.369357  5.067812 -1.940058 -1.872742   \n",
       "2   8.971707  8.848428  3.046479  1.214518  3.405158 -1.207456 -1.277210   \n",
       "3   0.716415  7.669600  4.486641  2.340563  3.963791 -1.027473 -1.938944   \n",
       "4   3.134112  7.608772  4.943759  9.857573  3.525811 -1.125531 -1.845975   \n",
       "5   6.999209  9.109247  3.784066  4.267788  4.429669 -1.857139 -0.670397   \n",
       "6   6.710166  3.765204  6.929314  8.818562  2.397419 -0.614590 -1.208826   \n",
       "7   6.953512  1.379125  5.719400  7.870307  3.224495 -0.748998 -1.186517   \n",
       "8   4.689852  4.007747  1.478573  3.733787  4.041300 -1.410344 -1.238204   \n",
       "9   9.841496  1.413822  9.769856  7.641616  4.727595 -1.991363 -0.857637   \n",
       "10  5.930110  6.730873  6.245138  0.533288  2.327092 -0.702501 -1.116920   \n",
       "11  5.381299  8.014521  8.095174  6.769248  5.507551 -1.972714 -1.849333   \n",
       "12  1.616787  2.939228  0.819791  4.191804  3.752282 -1.484885 -1.280581   \n",
       "13  8.551598  8.314952  2.549964  9.926807  4.891714 -1.808626 -1.167061   \n",
       "14  1.132108  2.920324  8.951079  7.248583  5.033681 -1.846080 -1.362777   \n",
       "15  7.021362  4.374294  4.775904  8.838426  3.335857 -0.962392 -1.407627   \n",
       "16  4.952241  8.088672  8.883319  5.694557  5.067296 -1.681414 -1.877061   \n",
       "17  4.142830  2.439089  1.290456  9.456443  3.934796 -1.469299 -1.766941   \n",
       "18  9.346126  7.920030  2.335276  3.269181  4.581174 -1.106753 -1.747078   \n",
       "19  3.931954  9.180890  6.064480  6.292147  5.363996 -1.695085 -1.880273   \n",
       "\n",
       "          p4        g1        g2        g3        g4      stab     stabf  \n",
       "0  -1.723086  0.650456  0.859578  0.887445  0.958034  0.055347  unstable  \n",
       "1  -1.255012  0.413441  0.862414  0.562139  0.781760 -0.005957    stable  \n",
       "2  -0.920492  0.163041  0.766689  0.839444  0.109853  0.003471  unstable  \n",
       "3  -0.997374  0.446209  0.976744  0.929381  0.362718  0.028871  unstable  \n",
       "4  -0.554305  0.797110  0.455450  0.656947  0.820923  0.049860  unstable  \n",
       "5  -1.902133  0.261793  0.077930  0.542884  0.469931 -0.017385    stable  \n",
       "6  -0.574004  0.177890  0.397977  0.402046  0.376630  0.005954  unstable  \n",
       "7  -1.288980  0.371385  0.633204  0.732741  0.380544  0.016634  unstable  \n",
       "8  -1.392751  0.269708  0.250364  0.164941  0.482439 -0.038677    stable  \n",
       "9  -1.878594  0.376356  0.544415  0.792039  0.116263  0.012383  unstable  \n",
       "10 -0.507671  0.239816  0.563110  0.164461  0.753701 -0.028411    stable  \n",
       "11 -1.685505  0.359974  0.173569  0.349144  0.628860  0.028130  unstable  \n",
       "12 -0.986816  0.899698  0.866546  0.303921  0.077610 -0.048617    stable  \n",
       "13 -1.916026  0.612404  0.280983  0.354342  0.472192  0.027756  unstable  \n",
       "14 -1.824824  0.352292  0.524173  0.599004  0.674390  0.014880  unstable  \n",
       "15 -0.965839  0.711100  0.625364  0.468335  0.895143  0.072508  unstable  \n",
       "16 -1.508820  0.305662  0.307904  0.889894  0.879428  0.065617  unstable  \n",
       "17 -0.698556  0.800757  0.840807  0.917833  0.793982 -0.006966    stable  \n",
       "18 -1.727344  0.836076  0.713254  0.161518  0.515983  0.041374  unstable  \n",
       "19 -1.788638  0.837264  0.611781  0.210692  0.697465  0.052781  unstable  "
      ]
     },
     "execution_count": 57,
     "metadata": {},
     "output_type": "execute_result"
    }
   ],
   "source": [
    "data.head(20)"
   ]
  },
  {
   "cell_type": "code",
   "execution_count": 4,
   "metadata": {},
   "outputs": [
    {
     "name": "stdout",
     "output_type": "stream",
     "text": [
      "<class 'pandas.core.frame.DataFrame'>\n",
      "RangeIndex: 10000 entries, 0 to 9999\n",
      "Data columns (total 14 columns):\n",
      " #   Column  Non-Null Count  Dtype  \n",
      "---  ------  --------------  -----  \n",
      " 0   tau1    10000 non-null  float64\n",
      " 1   tau2    10000 non-null  float64\n",
      " 2   tau3    10000 non-null  float64\n",
      " 3   tau4    10000 non-null  float64\n",
      " 4   p1      10000 non-null  float64\n",
      " 5   p2      10000 non-null  float64\n",
      " 6   p3      10000 non-null  float64\n",
      " 7   p4      10000 non-null  float64\n",
      " 8   g1      10000 non-null  float64\n",
      " 9   g2      10000 non-null  float64\n",
      " 10  g3      10000 non-null  float64\n",
      " 11  g4      10000 non-null  float64\n",
      " 12  stab    10000 non-null  float64\n",
      " 13  stabf   10000 non-null  object \n",
      "dtypes: float64(13), object(1)\n",
      "memory usage: 1.1+ MB\n"
     ]
    }
   ],
   "source": [
    "data.info()"
   ]
  },
  {
   "cell_type": "code",
   "execution_count": 5,
   "metadata": {},
   "outputs": [
    {
     "data": {
      "text/html": [
       "<div>\n",
       "<style scoped>\n",
       "    .dataframe tbody tr th:only-of-type {\n",
       "        vertical-align: middle;\n",
       "    }\n",
       "\n",
       "    .dataframe tbody tr th {\n",
       "        vertical-align: top;\n",
       "    }\n",
       "\n",
       "    .dataframe thead th {\n",
       "        text-align: right;\n",
       "    }\n",
       "</style>\n",
       "<table border=\"1\" class=\"dataframe\">\n",
       "  <thead>\n",
       "    <tr style=\"text-align: right;\">\n",
       "      <th></th>\n",
       "      <th>tau1</th>\n",
       "      <th>tau2</th>\n",
       "      <th>tau3</th>\n",
       "      <th>tau4</th>\n",
       "      <th>p1</th>\n",
       "      <th>p2</th>\n",
       "      <th>p3</th>\n",
       "      <th>p4</th>\n",
       "      <th>g1</th>\n",
       "      <th>g2</th>\n",
       "      <th>g3</th>\n",
       "      <th>g4</th>\n",
       "      <th>stab</th>\n",
       "    </tr>\n",
       "  </thead>\n",
       "  <tbody>\n",
       "    <tr>\n",
       "      <th>count</th>\n",
       "      <td>10000.000000</td>\n",
       "      <td>10000.000000</td>\n",
       "      <td>10000.000000</td>\n",
       "      <td>10000.000000</td>\n",
       "      <td>10000.000000</td>\n",
       "      <td>10000.000000</td>\n",
       "      <td>10000.000000</td>\n",
       "      <td>10000.000000</td>\n",
       "      <td>10000.000000</td>\n",
       "      <td>10000.000000</td>\n",
       "      <td>10000.000000</td>\n",
       "      <td>10000.000000</td>\n",
       "      <td>10000.000000</td>\n",
       "    </tr>\n",
       "    <tr>\n",
       "      <th>mean</th>\n",
       "      <td>5.250000</td>\n",
       "      <td>5.250001</td>\n",
       "      <td>5.250004</td>\n",
       "      <td>5.249997</td>\n",
       "      <td>3.750000</td>\n",
       "      <td>-1.250000</td>\n",
       "      <td>-1.250000</td>\n",
       "      <td>-1.250000</td>\n",
       "      <td>0.525000</td>\n",
       "      <td>0.525000</td>\n",
       "      <td>0.525000</td>\n",
       "      <td>0.525000</td>\n",
       "      <td>0.015731</td>\n",
       "    </tr>\n",
       "    <tr>\n",
       "      <th>std</th>\n",
       "      <td>2.742548</td>\n",
       "      <td>2.742549</td>\n",
       "      <td>2.742549</td>\n",
       "      <td>2.742556</td>\n",
       "      <td>0.752160</td>\n",
       "      <td>0.433035</td>\n",
       "      <td>0.433035</td>\n",
       "      <td>0.433035</td>\n",
       "      <td>0.274256</td>\n",
       "      <td>0.274255</td>\n",
       "      <td>0.274255</td>\n",
       "      <td>0.274255</td>\n",
       "      <td>0.036919</td>\n",
       "    </tr>\n",
       "    <tr>\n",
       "      <th>min</th>\n",
       "      <td>0.500793</td>\n",
       "      <td>0.500141</td>\n",
       "      <td>0.500788</td>\n",
       "      <td>0.500473</td>\n",
       "      <td>1.582590</td>\n",
       "      <td>-1.999891</td>\n",
       "      <td>-1.999945</td>\n",
       "      <td>-1.999926</td>\n",
       "      <td>0.050009</td>\n",
       "      <td>0.050053</td>\n",
       "      <td>0.050054</td>\n",
       "      <td>0.050028</td>\n",
       "      <td>-0.080760</td>\n",
       "    </tr>\n",
       "    <tr>\n",
       "      <th>25%</th>\n",
       "      <td>2.874892</td>\n",
       "      <td>2.875140</td>\n",
       "      <td>2.875522</td>\n",
       "      <td>2.874950</td>\n",
       "      <td>3.218300</td>\n",
       "      <td>-1.624901</td>\n",
       "      <td>-1.625025</td>\n",
       "      <td>-1.624960</td>\n",
       "      <td>0.287521</td>\n",
       "      <td>0.287552</td>\n",
       "      <td>0.287514</td>\n",
       "      <td>0.287494</td>\n",
       "      <td>-0.015557</td>\n",
       "    </tr>\n",
       "    <tr>\n",
       "      <th>50%</th>\n",
       "      <td>5.250004</td>\n",
       "      <td>5.249981</td>\n",
       "      <td>5.249979</td>\n",
       "      <td>5.249734</td>\n",
       "      <td>3.751025</td>\n",
       "      <td>-1.249966</td>\n",
       "      <td>-1.249974</td>\n",
       "      <td>-1.250007</td>\n",
       "      <td>0.525009</td>\n",
       "      <td>0.525003</td>\n",
       "      <td>0.525015</td>\n",
       "      <td>0.525002</td>\n",
       "      <td>0.017142</td>\n",
       "    </tr>\n",
       "    <tr>\n",
       "      <th>75%</th>\n",
       "      <td>7.624690</td>\n",
       "      <td>7.624893</td>\n",
       "      <td>7.624948</td>\n",
       "      <td>7.624838</td>\n",
       "      <td>4.282420</td>\n",
       "      <td>-0.874977</td>\n",
       "      <td>-0.875043</td>\n",
       "      <td>-0.875065</td>\n",
       "      <td>0.762435</td>\n",
       "      <td>0.762490</td>\n",
       "      <td>0.762440</td>\n",
       "      <td>0.762433</td>\n",
       "      <td>0.044878</td>\n",
       "    </tr>\n",
       "    <tr>\n",
       "      <th>max</th>\n",
       "      <td>9.999469</td>\n",
       "      <td>9.999837</td>\n",
       "      <td>9.999450</td>\n",
       "      <td>9.999443</td>\n",
       "      <td>5.864418</td>\n",
       "      <td>-0.500108</td>\n",
       "      <td>-0.500072</td>\n",
       "      <td>-0.500025</td>\n",
       "      <td>0.999937</td>\n",
       "      <td>0.999944</td>\n",
       "      <td>0.999982</td>\n",
       "      <td>0.999930</td>\n",
       "      <td>0.109403</td>\n",
       "    </tr>\n",
       "  </tbody>\n",
       "</table>\n",
       "</div>"
      ],
      "text/plain": [
       "               tau1          tau2          tau3          tau4            p1  \\\n",
       "count  10000.000000  10000.000000  10000.000000  10000.000000  10000.000000   \n",
       "mean       5.250000      5.250001      5.250004      5.249997      3.750000   \n",
       "std        2.742548      2.742549      2.742549      2.742556      0.752160   \n",
       "min        0.500793      0.500141      0.500788      0.500473      1.582590   \n",
       "25%        2.874892      2.875140      2.875522      2.874950      3.218300   \n",
       "50%        5.250004      5.249981      5.249979      5.249734      3.751025   \n",
       "75%        7.624690      7.624893      7.624948      7.624838      4.282420   \n",
       "max        9.999469      9.999837      9.999450      9.999443      5.864418   \n",
       "\n",
       "                 p2            p3            p4            g1            g2  \\\n",
       "count  10000.000000  10000.000000  10000.000000  10000.000000  10000.000000   \n",
       "mean      -1.250000     -1.250000     -1.250000      0.525000      0.525000   \n",
       "std        0.433035      0.433035      0.433035      0.274256      0.274255   \n",
       "min       -1.999891     -1.999945     -1.999926      0.050009      0.050053   \n",
       "25%       -1.624901     -1.625025     -1.624960      0.287521      0.287552   \n",
       "50%       -1.249966     -1.249974     -1.250007      0.525009      0.525003   \n",
       "75%       -0.874977     -0.875043     -0.875065      0.762435      0.762490   \n",
       "max       -0.500108     -0.500072     -0.500025      0.999937      0.999944   \n",
       "\n",
       "                 g3            g4          stab  \n",
       "count  10000.000000  10000.000000  10000.000000  \n",
       "mean       0.525000      0.525000      0.015731  \n",
       "std        0.274255      0.274255      0.036919  \n",
       "min        0.050054      0.050028     -0.080760  \n",
       "25%        0.287514      0.287494     -0.015557  \n",
       "50%        0.525015      0.525002      0.017142  \n",
       "75%        0.762440      0.762433      0.044878  \n",
       "max        0.999982      0.999930      0.109403  "
      ]
     },
     "execution_count": 5,
     "metadata": {},
     "output_type": "execute_result"
    }
   ],
   "source": [
    "data.describe()"
   ]
  },
  {
   "cell_type": "code",
   "execution_count": 47,
   "metadata": {},
   "outputs": [
    {
     "data": {
      "text/plain": [
       "tau1     0\n",
       "tau2     0\n",
       "tau3     0\n",
       "tau4     0\n",
       "p1       0\n",
       "p2       0\n",
       "p3       0\n",
       "p4       0\n",
       "g1       0\n",
       "g2       0\n",
       "g3       0\n",
       "g4       0\n",
       "stab     0\n",
       "stabf    0\n",
       "dtype: int64"
      ]
     },
     "execution_count": 47,
     "metadata": {},
     "output_type": "execute_result"
    }
   ],
   "source": [
    "#Confirming we have no missing data\n",
    "data.isnull().sum()"
   ]
  },
  {
   "cell_type": "code",
   "execution_count": 7,
   "metadata": {},
   "outputs": [
    {
     "data": {
      "image/png": "[encoded data removed]",
      "text/plain": [
       "<Figure size 432x288 with 1 Axes>"
      ]
     },
     "metadata": {
      "needs_background": "light"
     },
     "output_type": "display_data"
    },
    {
     "data": {
      "image/png": "[encoded data removed]",
      "text/plain": [
       "<Figure size 432x288 with 1 Axes>"
      ]
     },
     "metadata": {
      "needs_background": "light"
     },
     "output_type": "display_data"
    },
    {
     "data": {
      "image/png": "[encoded data removed]",
      "text/plain": [
       "<Figure size 432x288 with 1 Axes>"
      ]
     },
     "metadata": {
      "needs_background": "light"
     },
     "output_type": "display_data"
    },
    {
     "data": {
      "image/png": "[encoded data removed]",
      "text/plain": [
       "<Figure size 432x288 with 1 Axes>"
      ]
     },
     "metadata": {
      "needs_background": "light"
     },
     "output_type": "display_data"
    },
    {
     "data": {
      "image/png": "[encoded data removed]",
      "text/plain": [
       "<Figure size 432x288 with 1 Axes>"
      ]
     },
     "metadata": {
      "needs_background": "light"
     },
     "output_type": "display_data"
    },
    {
     "data": {
      "image/png": "[encoded data removed]",
      "text/plain": [
       "<Figure size 432x288 with 1 Axes>"
      ]
     },
     "metadata": {
      "needs_background": "light"
     },
     "output_type": "display_data"
    },
    {
     "data": {
      "image/png": "[encoded data removed]",
      "text/plain": [
       "<Figure size 432x288 with 1 Axes>"
      ]
     },
     "metadata": {
      "needs_background": "light"
     },
     "output_type": "display_data"
    },
    {
     "data": {
      "image/png": "[encoded data removed]",
      "text/plain": [
       "<Figure size 432x288 with 1 Axes>"
      ]
     },
     "metadata": {
      "needs_background": "light"
     },
     "output_type": "display_data"
    },
    {
     "data": {
      "image/png": "[encoded data removed]",
      "text/plain": [
       "<Figure size 432x288 with 1 Axes>"
      ]
     },
     "metadata": {
      "needs_background": "light"
     },
     "output_type": "display_data"
    },
    {
     "data": {
      "image/png": "[encoded data removed]",
      "text/plain": [
       "<Figure size 432x288 with 1 Axes>"
      ]
     },
     "metadata": {
      "needs_background": "light"
     },
     "output_type": "display_data"
    },
    {
     "data": {
      "image/png": "[encoded data removed]",
      "text/plain": [
       "<Figure size 432x288 with 1 Axes>"
      ]
     },
     "metadata": {
      "needs_background": "light"
     },
     "output_type": "display_data"
    },
    {
     "data": {
      "image/png": "[encoded data removed]",
      "text/plain": [
       "<Figure size 432x288 with 1 Axes>"
      ]
     },
     "metadata": {
      "needs_background": "light"
     },
     "output_type": "display_data"
    },
    {
     "data": {
      "image/png": "[encoded data removed]",
      "text/plain": [
       "<Figure size 432x288 with 1 Axes>"
      ]
     },
     "metadata": {
      "needs_background": "light"
     },
     "output_type": "display_data"
    }
   ],
   "source": [
    "for i, cols in enumerate(data.drop('stabf', axis=1).columns):\n",
    "    data[cols].plot.hist()\n",
    "    plt.xlabel(cols)\n",
    "    plt.show()"
   ]
  },
  {
   "cell_type": "markdown",
   "metadata": {},
   "source": [
    "Only p1 - Nominal Power Produced and Numerical value of degree of stability tends to be normally dsitributed values we have in this dataset"
   ]
  },
  {
   "cell_type": "code",
   "execution_count": 8,
   "metadata": {},
   "outputs": [
    {
     "data": {
      "text/plain": [
       "unstable    6380\n",
       "stable      3620\n",
       "Name: stabf, dtype: int64"
      ]
     },
     "execution_count": 8,
     "metadata": {},
     "output_type": "execute_result"
    }
   ],
   "source": [
    "data.stabf.value_counts()"
   ]
  },
  {
   "cell_type": "markdown",
   "metadata": {},
   "source": [
    "Just like an unideal type of life, we have more unstable power grids"
   ]
  },
  {
   "cell_type": "code",
   "execution_count": 9,
   "metadata": {},
   "outputs": [
    {
     "data": {
      "text/plain": [
       "<matplotlib.legend.Legend at 0x17c9f309548>"
      ]
     },
     "execution_count": 9,
     "metadata": {},
     "output_type": "execute_result"
    },
    {
     "data": {
      "image/png": "[encoded data removed]",
      "text/plain": [
       "<Figure size 432x288 with 1 Axes>"
      ]
     },
     "metadata": {},
     "output_type": "display_data"
    }
   ],
   "source": [
    "p1_gdata = data.groupby('stabf').sum()['p1'].to_frame().reset_index()\n",
    "plt.pie(data=p1_gdata, x='p1', explode=[0.1, 0.0], startangle=90, autopct=\"%1.2f%%\", pctdistance=1.25)\n",
    "plt.legend(p1_gdata.stabf)"
   ]
  },
  {
   "cell_type": "markdown",
   "metadata": {},
   "source": [
    "It turns out that about 64% of nominal power produced are from unstable grids"
   ]
  },
  {
   "cell_type": "markdown",
   "metadata": {},
   "source": [
    "### Checking distribtuion of nominal power produced by stability"
   ]
  },
  {
   "cell_type": "code",
   "execution_count": 10,
   "metadata": {},
   "outputs": [
    {
     "data": {
      "text/plain": [
       "<matplotlib.axes._subplots.AxesSubplot at 0x17c9f32b748>"
      ]
     },
     "execution_count": 10,
     "metadata": {},
     "output_type": "execute_result"
    },
    {
     "data": {
      "image/png": "[encoded data removed]",
      "text/plain": [
       "<Figure size 432x288 with 1 Axes>"
      ]
     },
     "metadata": {
      "needs_background": "light"
     },
     "output_type": "display_data"
    }
   ],
   "source": [
    "fig1 = plt.figure(figsize=(6,4))\n",
    "ax = fig1.add_subplot(111)\n",
    "data[data.stabf == 'unstable'].p1.plot.hist(color='red', ax=ax, alpha=0.5)\n",
    "data[data.stabf != 'unstable'].p1.plot.hist(color='blue', ax=ax, alpha=0.5)"
   ]
  },
  {
   "cell_type": "markdown",
   "metadata": {},
   "source": [
    "Just as closely explained in the pie chart above, unstable grids tends to generate and supply more power than stable grids"
   ]
  },
  {
   "cell_type": "code",
   "execution_count": 54,
   "metadata": {},
   "outputs": [
    {
     "data": {
      "text/plain": [
       "<matplotlib.axes._subplots.AxesSubplot at 0x17cac122988>"
      ]
     },
     "execution_count": 54,
     "metadata": {},
     "output_type": "execute_result"
    },
    {
     "data": {
      "image/png": "[encoded data removed]",
      "text/plain": [
       "<Figure size 720x576 with 2 Axes>"
      ]
     },
     "metadata": {
      "needs_background": "light"
     },
     "output_type": "display_data"
    }
   ],
   "source": [
    "plt.figure(figsize=(10,8))\n",
    "sns.heatmap(data.corr(), annot=data.corr(), fmt=\".1g\")"
   ]
  },
  {
   "cell_type": "markdown",
   "metadata": {},
   "source": [
    "### Literally stabbing stab in the back ;) by dropping it. Just needed it for correlation."
   ]
  },
  {
   "cell_type": "markdown",
   "metadata": {},
   "source": [
    "From the looks of corellation, It doesn't seem like a linear regreesion or logistic regression \n",
    "will do a great job at modelling this dataset. There doesn't seem to be a high correlation metric between all variables and stab.\n",
    "The whole p1-p4 seems close to being highly corellated with one another."
   ]
  },
  {
   "cell_type": "code",
   "execution_count": 12,
   "metadata": {},
   "outputs": [
    {
     "data": {
      "text/html": [
       "<div>\n",
       "<style scoped>\n",
       "    .dataframe tbody tr th:only-of-type {\n",
       "        vertical-align: middle;\n",
       "    }\n",
       "\n",
       "    .dataframe tbody tr th {\n",
       "        vertical-align: top;\n",
       "    }\n",
       "\n",
       "    .dataframe thead th {\n",
       "        text-align: right;\n",
       "    }\n",
       "</style>\n",
       "<table border=\"1\" class=\"dataframe\">\n",
       "  <thead>\n",
       "    <tr style=\"text-align: right;\">\n",
       "      <th></th>\n",
       "      <th>tau1</th>\n",
       "      <th>tau2</th>\n",
       "      <th>tau3</th>\n",
       "      <th>tau4</th>\n",
       "      <th>p1</th>\n",
       "      <th>p2</th>\n",
       "      <th>p3</th>\n",
       "      <th>p4</th>\n",
       "      <th>g1</th>\n",
       "      <th>g2</th>\n",
       "      <th>g3</th>\n",
       "      <th>g4</th>\n",
       "      <th>stabf</th>\n",
       "    </tr>\n",
       "  </thead>\n",
       "  <tbody>\n",
       "    <tr>\n",
       "      <th>0</th>\n",
       "      <td>2.959060</td>\n",
       "      <td>3.079885</td>\n",
       "      <td>8.381025</td>\n",
       "      <td>9.780754</td>\n",
       "      <td>3.763085</td>\n",
       "      <td>-0.782604</td>\n",
       "      <td>-1.257395</td>\n",
       "      <td>-1.723086</td>\n",
       "      <td>0.650456</td>\n",
       "      <td>0.859578</td>\n",
       "      <td>0.887445</td>\n",
       "      <td>0.958034</td>\n",
       "      <td>unstable</td>\n",
       "    </tr>\n",
       "    <tr>\n",
       "      <th>1</th>\n",
       "      <td>9.304097</td>\n",
       "      <td>4.902524</td>\n",
       "      <td>3.047541</td>\n",
       "      <td>1.369357</td>\n",
       "      <td>5.067812</td>\n",
       "      <td>-1.940058</td>\n",
       "      <td>-1.872742</td>\n",
       "      <td>-1.255012</td>\n",
       "      <td>0.413441</td>\n",
       "      <td>0.862414</td>\n",
       "      <td>0.562139</td>\n",
       "      <td>0.781760</td>\n",
       "      <td>stable</td>\n",
       "    </tr>\n",
       "    <tr>\n",
       "      <th>2</th>\n",
       "      <td>8.971707</td>\n",
       "      <td>8.848428</td>\n",
       "      <td>3.046479</td>\n",
       "      <td>1.214518</td>\n",
       "      <td>3.405158</td>\n",
       "      <td>-1.207456</td>\n",
       "      <td>-1.277210</td>\n",
       "      <td>-0.920492</td>\n",
       "      <td>0.163041</td>\n",
       "      <td>0.766689</td>\n",
       "      <td>0.839444</td>\n",
       "      <td>0.109853</td>\n",
       "      <td>unstable</td>\n",
       "    </tr>\n",
       "    <tr>\n",
       "      <th>3</th>\n",
       "      <td>0.716415</td>\n",
       "      <td>7.669600</td>\n",
       "      <td>4.486641</td>\n",
       "      <td>2.340563</td>\n",
       "      <td>3.963791</td>\n",
       "      <td>-1.027473</td>\n",
       "      <td>-1.938944</td>\n",
       "      <td>-0.997374</td>\n",
       "      <td>0.446209</td>\n",
       "      <td>0.976744</td>\n",
       "      <td>0.929381</td>\n",
       "      <td>0.362718</td>\n",
       "      <td>unstable</td>\n",
       "    </tr>\n",
       "    <tr>\n",
       "      <th>4</th>\n",
       "      <td>3.134112</td>\n",
       "      <td>7.608772</td>\n",
       "      <td>4.943759</td>\n",
       "      <td>9.857573</td>\n",
       "      <td>3.525811</td>\n",
       "      <td>-1.125531</td>\n",
       "      <td>-1.845975</td>\n",
       "      <td>-0.554305</td>\n",
       "      <td>0.797110</td>\n",
       "      <td>0.455450</td>\n",
       "      <td>0.656947</td>\n",
       "      <td>0.820923</td>\n",
       "      <td>unstable</td>\n",
       "    </tr>\n",
       "  </tbody>\n",
       "</table>\n",
       "</div>"
      ],
      "text/plain": [
       "       tau1      tau2      tau3      tau4        p1        p2        p3  \\\n",
       "0  2.959060  3.079885  8.381025  9.780754  3.763085 -0.782604 -1.257395   \n",
       "1  9.304097  4.902524  3.047541  1.369357  5.067812 -1.940058 -1.872742   \n",
       "2  8.971707  8.848428  3.046479  1.214518  3.405158 -1.207456 -1.277210   \n",
       "3  0.716415  7.669600  4.486641  2.340563  3.963791 -1.027473 -1.938944   \n",
       "4  3.134112  7.608772  4.943759  9.857573  3.525811 -1.125531 -1.845975   \n",
       "\n",
       "         p4        g1        g2        g3        g4     stabf  \n",
       "0 -1.723086  0.650456  0.859578  0.887445  0.958034  unstable  \n",
       "1 -1.255012  0.413441  0.862414  0.562139  0.781760    stable  \n",
       "2 -0.920492  0.163041  0.766689  0.839444  0.109853  unstable  \n",
       "3 -0.997374  0.446209  0.976744  0.929381  0.362718  unstable  \n",
       "4 -0.554305  0.797110  0.455450  0.656947  0.820923  unstable  "
      ]
     },
     "execution_count": 12,
     "metadata": {},
     "output_type": "execute_result"
    }
   ],
   "source": [
    "data_2 = data.drop('stab', axis=1)\n",
    "data_2.head()"
   ]
  },
  {
   "cell_type": "code",
   "execution_count": 55,
   "metadata": {},
   "outputs": [],
   "source": [
    "#Splitting data into train and test set\n",
    "X = data_2.drop('stabf', axis=1)\n",
    "y = data_2.stabf\n",
    "x_train, x_test, y_train, y_test = train_test_split(X, y, test_size=0.2, random_state=1)"
   ]
  },
  {
   "cell_type": "code",
   "execution_count": 56,
   "metadata": {},
   "outputs": [],
   "source": [
    "#Scalling the train and test set with standard scaler\n",
    "scaler = StandardScaler()\n",
    "x_train_scaled = pd.DataFrame(scaler.fit_transform(x_train), columns=x_train.columns)\n",
    "x_test_scaled = pd.DataFrame(scaler.transform(x_test), columns=x_test.columns)"
   ]
  },
  {
   "cell_type": "markdown",
   "metadata": {},
   "source": [
    "# Note: I took 'stable' as my 'positive label'"
   ]
  },
  {
   "cell_type": "markdown",
   "metadata": {},
   "source": [
    "### Venturing into a \"Random Forest\" - Story of a model"
   ]
  },
  {
   "cell_type": "code",
   "execution_count": 15,
   "metadata": {},
   "outputs": [],
   "source": [
    "from sklearn.ensemble import RandomForestClassifier, ExtraTreesClassifier"
   ]
  },
  {
   "cell_type": "code",
   "execution_count": 16,
   "metadata": {},
   "outputs": [],
   "source": [
    "rfc = RandomForestClassifier(random_state=1)\n",
    "rfc.fit(x_train_scaled, y_train)\n",
    "rfc_pred = rfc.predict(x_test_scaled)\n",
    "rfc_acc = accuracy_score(y_test, rfc_pred)\n",
    "rfc_precision = precision_score(y_test, rfc_pred, pos_label='stable')\n",
    "rfc_recall = recall_score(y_test, rfc_pred, pos_label='stable')\n",
    "rfc_f1score = f1_score(y_test, rfc_pred, pos_label='stable')"
   ]
  },
  {
   "cell_type": "code",
   "execution_count": 17,
   "metadata": {},
   "outputs": [
    {
     "name": "stdout",
     "output_type": "stream",
     "text": [
      " rfc_Accuracy: 0.929 \n",
      " rfc_Precision:  0.9191176470588235 \n",
      " rfc_Recall: 0.8778089887640449 \n",
      " rfc_F1 Score: 0.8979885057471264\n"
     ]
    }
   ],
   "source": [
    "print(\" rfc_Accuracy:\",rfc_acc, \"\\n rfc_Precision: \",rfc_precision, \"\\n rfc_Recall:\",rfc_recall, \"\\n rfc_F1 Score:\",rfc_f1score)"
   ]
  },
  {
   "cell_type": "markdown",
   "metadata": {},
   "source": [
    "### Picking up \"Extra Trees\" along the way"
   ]
  },
  {
   "cell_type": "code",
   "execution_count": 18,
   "metadata": {},
   "outputs": [],
   "source": [
    "etc = ExtraTreesClassifier(random_state=1)\n",
    "etc.fit(x_train_scaled, y_train)\n",
    "etc_pred = etc.predict(x_test_scaled)\n",
    "etc_acc = accuracy_score(y_test, etc_pred)\n",
    "etc_precision = precision_score(y_test, etc_pred, pos_label='stable')\n",
    "etc_recall = recall_score(y_test, etc_pred, pos_label='stable')\n",
    "etc_f1score = f1_score(y_test, etc_pred, pos_label='stable')"
   ]
  },
  {
   "cell_type": "code",
   "execution_count": 19,
   "metadata": {},
   "outputs": [
    {
     "name": "stdout",
     "output_type": "stream",
     "text": [
      " etc_Accuracy: 0.928 \n",
      " etc_Precision:  0.9409937888198758 \n",
      " etc_Recall: 0.851123595505618 \n",
      " etc_F1 Score: 0.8938053097345133\n"
     ]
    }
   ],
   "source": [
    "print(\" etc_Accuracy:\",etc_acc, \"\\n etc_Precision: \",etc_precision, \"\\n etc_Recall:\",etc_recall, \"\\n etc_F1 Score:\",etc_f1score)"
   ]
  },
  {
   "cell_type": "markdown",
   "metadata": {},
   "source": [
    "### And then we found some fruits to \"Xtremely Boost\" our model"
   ]
  },
  {
   "cell_type": "code",
   "execution_count": 20,
   "metadata": {},
   "outputs": [],
   "source": [
    "from xgboost import XGBClassifier"
   ]
  },
  {
   "cell_type": "code",
   "execution_count": 21,
   "metadata": {},
   "outputs": [],
   "source": [
    "xgb = XGBClassifier(random_state=1)\n",
    "xgb.fit(x_train_scaled, y_train)\n",
    "xgb_pred = xgb.predict(x_test_scaled)\n",
    "xgb_acc = accuracy_score(y_test, xgb_pred)\n",
    "xgb_precision = precision_score(y_test, xgb_pred, pos_label='stable')\n",
    "xgb_recall = recall_score(y_test, xgb_pred, pos_label='stable')\n",
    "xgb_f1score = f1_score(y_test, xgb_pred, pos_label='stable')"
   ]
  },
  {
   "cell_type": "code",
   "execution_count": 22,
   "metadata": {},
   "outputs": [
    {
     "name": "stdout",
     "output_type": "stream",
     "text": [
      " xgb_Accuracy: 0.9195 \n",
      " xgb_Precision:  0.9206106870229007 \n",
      " xgb_Recall: 0.8469101123595506 \n",
      " xgb_F1 Score: 0.8822238478419898\n"
     ]
    }
   ],
   "source": [
    "print(\" xgb_Accuracy:\",xgb_acc, \"\\n xgb_Precision: \",xgb_precision, \"\\n xgb_Recall:\",xgb_recall, \"\\n xgb_F1 Score:\",xgb_f1score)"
   ]
  },
  {
   "cell_type": "markdown",
   "metadata": {},
   "source": [
    "### Checking out a Light Gradient Boosting Model"
   ]
  },
  {
   "cell_type": "code",
   "execution_count": 24,
   "metadata": {},
   "outputs": [],
   "source": [
    "import lightgbm as lgb\n",
    "\n",
    "#Converting the y_train to binary. Lightgbm seems to want it that way. Seems she has her own taste. \n",
    "lgb_y_train = np.where(y_train=='stable', 1, 0)\n",
    "\n",
    "#Defining the train data to be used and converting into a numpy data type\n",
    "train_data = lgb.Dataset(data=x_train_scaled.values, label=lgb_y_train)"
   ]
  },
  {
   "cell_type": "code",
   "execution_count": 25,
   "metadata": {},
   "outputs": [],
   "source": [
    "#Setting it's default parameters\n",
    "param = {'num_leaves': 31, 'objective': 'binary'}\n",
    "param['metric'] = 'auc'\n",
    "#Training.... More of like fitting in other sklearn models...\n",
    "bst = lgb.train(params=param, train_set=train_data)\n",
    "# Getting predictions from test set\n",
    "bst_pred = bst.predict(x_test_scaled)"
   ]
  },
  {
   "cell_type": "code",
   "execution_count": 26,
   "metadata": {},
   "outputs": [
    {
     "data": {
      "text/plain": [
       "<matplotlib.axes._subplots.AxesSubplot at 0x17c9f4a7f08>"
      ]
     },
     "execution_count": 26,
     "metadata": {},
     "output_type": "execute_result"
    },
    {
     "data": {
      "image/png": "[encoded data removed]",
      "text/plain": [
       "<Figure size 432x288 with 1 Axes>"
      ]
     },
     "metadata": {
      "needs_background": "light"
     },
     "output_type": "display_data"
    }
   ],
   "source": [
    "#Checking the prediction's (in probablity) distribution.\n",
    "pd.Series(bst_pred).plot(kind='hist')"
   ]
  },
  {
   "cell_type": "code",
   "execution_count": 27,
   "metadata": {},
   "outputs": [],
   "source": [
    "# Converting back to categories\n",
    "lgb_y_pred = np.where(bst_pred>=0.5, 'stable', 'unstable')"
   ]
  },
  {
   "cell_type": "code",
   "execution_count": 28,
   "metadata": {},
   "outputs": [],
   "source": [
    "lgb_acc = accuracy_score(y_test, lgb_y_pred)\n",
    "lgb_precision = precision_score(y_test, lgb_y_pred, pos_label='stable')\n",
    "lgb_recall = recall_score(y_test, lgb_y_pred, pos_label='stable')\n",
    "lgb_f1score = f1_score(y_test, lgb_y_pred, pos_label='stable')"
   ]
  },
  {
   "cell_type": "code",
   "execution_count": 29,
   "metadata": {},
   "outputs": [
    {
     "name": "stdout",
     "output_type": "stream",
     "text": [
      " lgb_Accuracy: 0.9375 \n",
      " lgb_Precision:  0.9297218155197657 \n",
      " lgb_Recall: 0.8918539325842697 \n",
      " lgb_F1 Score: 0.910394265232975\n"
     ]
    }
   ],
   "source": [
    "print(\" lgb_Accuracy:\",lgb_acc, \"\\n lgb_Precision: \",lgb_precision, \"\\n lgb_Recall:\",lgb_recall, \"\\n lgb_F1 Score:\",lgb_f1score)"
   ]
  },
  {
   "cell_type": "markdown",
   "metadata": {},
   "source": [
    "### Now on RandomizedSearchCV ... Working with the Extra Trees we found along the way"
   ]
  },
  {
   "cell_type": "code",
   "execution_count": 60,
   "metadata": {},
   "outputs": [
    {
     "name": "stdout",
     "output_type": "stream",
     "text": [
      "Fitting 5 folds for each of 10 candidates, totalling 50 fits\n"
     ]
    },
    {
     "name": "stderr",
     "output_type": "stream",
     "text": [
      "[Parallel(n_jobs=-1)]: Using backend LokyBackend with 4 concurrent workers.\n",
      "[Parallel(n_jobs=-1)]: Done  42 tasks      | elapsed:  2.4min\n",
      "[Parallel(n_jobs=-1)]: Done  50 out of  50 | elapsed:  2.7min finished\n"
     ]
    },
    {
     "data": {
      "text/plain": [
       "RandomizedSearchCV(cv=5, estimator=ExtraTreesClassifier(random_state=1),\n",
       "                   n_jobs=-1,\n",
       "                   param_distributions={'max_features': ['auto', 'sqrt', 'log2',\n",
       "                                                         None],\n",
       "                                        'min_samples_leaf': [1, 2, 4, 6, 8],\n",
       "                                        'min_samples_split': [2, 3, 5, 7, 9],\n",
       "                                        'n_estimators': [50, 100, 300, 500,\n",
       "                                                         1000]},\n",
       "                   random_state=1, scoring='accuracy', verbose=1)"
      ]
     },
     "execution_count": 60,
     "metadata": {},
     "output_type": "execute_result"
    }
   ],
   "source": [
    "from sklearn.model_selection import RandomizedSearchCV\n",
    "n_estimators = [50, 100, 300, 500, 1000]\n",
    "min_samples_split = [2, 3, 5, 7, 9]\n",
    "min_samples_leaf = [1, 2, 4, 6, 8]\n",
    "max_features = ['auto', 'sqrt', 'log2', None] \n",
    "hyperparameter_grid = {'n_estimators': n_estimators,\n",
    "                       'min_samples_leaf': min_samples_leaf,\n",
    "                       'min_samples_split': min_samples_split,\n",
    "                       'max_features': max_features}\n",
    "rscv = RandomizedSearchCV(etc, param_distributions=hyperparameter_grid, random_state=1,\n",
    "                         cv=5, n_iter=10, scoring = 'accuracy', n_jobs = -1, verbose = 1)\n",
    "rscv.fit(x_train_scaled, y_train)"
   ]
  },
  {
   "cell_type": "code",
   "execution_count": 61,
   "metadata": {},
   "outputs": [
    {
     "data": {
      "text/plain": [
       "{'bootstrap': False,\n",
       " 'ccp_alpha': 0.0,\n",
       " 'class_weight': None,\n",
       " 'criterion': 'gini',\n",
       " 'max_depth': None,\n",
       " 'max_features': None,\n",
       " 'max_leaf_nodes': None,\n",
       " 'max_samples': None,\n",
       " 'min_impurity_decrease': 0.0,\n",
       " 'min_impurity_split': None,\n",
       " 'min_samples_leaf': 8,\n",
       " 'min_samples_split': 2,\n",
       " 'min_weight_fraction_leaf': 0.0,\n",
       " 'n_estimators': 1000,\n",
       " 'n_jobs': None,\n",
       " 'oob_score': False,\n",
       " 'random_state': 1,\n",
       " 'verbose': 0,\n",
       " 'warm_start': False}"
      ]
     },
     "execution_count": 61,
     "metadata": {},
     "output_type": "execute_result"
    }
   ],
   "source": [
    "# Checking the best parameters\n",
    "rscv.best_estimator_.get_params()"
   ]
  },
  {
   "cell_type": "code",
   "execution_count": 32,
   "metadata": {},
   "outputs": [],
   "source": [
    "# Predicting and scoring\n",
    "rscv_pred = rscv.predict(x_test_scaled)\n",
    "rscv_acc = accuracy_score(y_test, rscv_pred)\n",
    "rscv_precision = precision_score(y_test, rscv_pred, pos_label='stable')\n",
    "rscv_recall = recall_score(y_test, rscv_pred, pos_label='stable')\n",
    "rscv_f1score = f1_score(y_test, rscv_pred, pos_label='stable')"
   ]
  },
  {
   "cell_type": "code",
   "execution_count": 33,
   "metadata": {},
   "outputs": [
    {
     "name": "stdout",
     "output_type": "stream",
     "text": [
      " rscv_Accuracy: 0.927 \n",
      " rscv_Precision:  0.9211309523809523 \n",
      " rscv_Recall: 0.8693820224719101 \n",
      " rscv_F1 Score: 0.8945086705202311\n"
     ]
    }
   ],
   "source": [
    "print(\" rscv_Accuracy:\",rscv_acc, \"\\n rscv_Precision: \",rscv_precision, \"\\n rscv_Recall:\",rscv_recall, \"\\n rscv_F1 Score:\",rscv_f1score)"
   ]
  },
  {
   "cell_type": "markdown",
   "metadata": {},
   "source": [
    "### Tabularizing the result of all models"
   ]
  },
  {
   "cell_type": "code",
   "execution_count": 35,
   "metadata": {},
   "outputs": [],
   "source": [
    "rscv_scores = [rscv_acc, rscv_precision, rscv_recall, rscv_f1score]\n",
    "lgb_scores = [lgb_acc, lgb_precision, lgb_recall, lgb_f1score]\n",
    "etc_scores = [etc_acc, etc_precision, etc_recall, etc_f1score]\n",
    "rfc_scores = [rfc_acc, rfc_precision, rfc_recall, rfc_f1score]\n",
    "xgb_scores = [xgb_acc, xgb_precision, xgb_recall, xgb_f1score]"
   ]
  },
  {
   "cell_type": "code",
   "execution_count": 36,
   "metadata": {},
   "outputs": [],
   "source": [
    "scores_np = np.array([rscv_scores, lgb_scores, etc_scores, rfc_scores, xgb_scores])"
   ]
  },
  {
   "cell_type": "code",
   "execution_count": 37,
   "metadata": {},
   "outputs": [
    {
     "data": {
      "text/plain": [
       "array([[0.927     , 0.92113095, 0.86938202, 0.89450867],\n",
       "       [0.9375    , 0.92972182, 0.89185393, 0.91039427],\n",
       "       [0.928     , 0.94099379, 0.8511236 , 0.89380531],\n",
       "       [0.929     , 0.91911765, 0.87780899, 0.89798851],\n",
       "       [0.9195    , 0.92061069, 0.84691011, 0.88222385]])"
      ]
     },
     "execution_count": 37,
     "metadata": {},
     "output_type": "execute_result"
    }
   ],
   "source": [
    "scores_np"
   ]
  },
  {
   "cell_type": "code",
   "execution_count": 39,
   "metadata": {},
   "outputs": [],
   "source": [
    "scores_df = pd.DataFrame(scores_np, columns=['Accuracy', 'Precision', 'Recall', 'F1_Score'], \n",
    "                         index=['RandomizedSearchCV', 'LightGBM', 'ExtraTrees', 'RandomForests', 'XGBoost'])"
   ]
  },
  {
   "cell_type": "code",
   "execution_count": 40,
   "metadata": {},
   "outputs": [
    {
     "data": {
      "text/html": [
       "<div>\n",
       "<style scoped>\n",
       "    .dataframe tbody tr th:only-of-type {\n",
       "        vertical-align: middle;\n",
       "    }\n",
       "\n",
       "    .dataframe tbody tr th {\n",
       "        vertical-align: top;\n",
       "    }\n",
       "\n",
       "    .dataframe thead th {\n",
       "        text-align: right;\n",
       "    }\n",
       "</style>\n",
       "<table border=\"1\" class=\"dataframe\">\n",
       "  <thead>\n",
       "    <tr style=\"text-align: right;\">\n",
       "      <th></th>\n",
       "      <th>Accuracy</th>\n",
       "      <th>Precision</th>\n",
       "      <th>Recall</th>\n",
       "      <th>F1_Score</th>\n",
       "    </tr>\n",
       "  </thead>\n",
       "  <tbody>\n",
       "    <tr>\n",
       "      <th>RandomizedSearchCV</th>\n",
       "      <td>0.9270</td>\n",
       "      <td>0.921131</td>\n",
       "      <td>0.869382</td>\n",
       "      <td>0.894509</td>\n",
       "    </tr>\n",
       "    <tr>\n",
       "      <th>LightGBM</th>\n",
       "      <td>0.9375</td>\n",
       "      <td>0.929722</td>\n",
       "      <td>0.891854</td>\n",
       "      <td>0.910394</td>\n",
       "    </tr>\n",
       "    <tr>\n",
       "      <th>ExtraTrees</th>\n",
       "      <td>0.9280</td>\n",
       "      <td>0.940994</td>\n",
       "      <td>0.851124</td>\n",
       "      <td>0.893805</td>\n",
       "    </tr>\n",
       "    <tr>\n",
       "      <th>RandomForests</th>\n",
       "      <td>0.9290</td>\n",
       "      <td>0.919118</td>\n",
       "      <td>0.877809</td>\n",
       "      <td>0.897989</td>\n",
       "    </tr>\n",
       "    <tr>\n",
       "      <th>XGBoost</th>\n",
       "      <td>0.9195</td>\n",
       "      <td>0.920611</td>\n",
       "      <td>0.846910</td>\n",
       "      <td>0.882224</td>\n",
       "    </tr>\n",
       "  </tbody>\n",
       "</table>\n",
       "</div>"
      ],
      "text/plain": [
       "                    Accuracy  Precision    Recall  F1_Score\n",
       "RandomizedSearchCV    0.9270   0.921131  0.869382  0.894509\n",
       "LightGBM              0.9375   0.929722  0.891854  0.910394\n",
       "ExtraTrees            0.9280   0.940994  0.851124  0.893805\n",
       "RandomForests         0.9290   0.919118  0.877809  0.897989\n",
       "XGBoost               0.9195   0.920611  0.846910  0.882224"
      ]
     },
     "execution_count": 40,
     "metadata": {},
     "output_type": "execute_result"
    }
   ],
   "source": [
    "scores_df"
   ]
  },
  {
   "cell_type": "code",
   "execution_count": 45,
   "metadata": {},
   "outputs": [
    {
     "data": {
      "text/plain": [
       "<matplotlib.axes._subplots.AxesSubplot at 0x17cab5055c8>"
      ]
     },
     "execution_count": 45,
     "metadata": {},
     "output_type": "execute_result"
    },
    {
     "data": {
      "image/png": "[encoded data removed]",
      "text/plain": [
       "<Figure size 432x288 with 2 Axes>"
      ]
     },
     "metadata": {
      "needs_background": "light"
     },
     "output_type": "display_data"
    }
   ],
   "source": [
    "sns.heatmap(scores_df, annot=scores_np, fmt='.3g')"
   ]
  },
  {
   "cell_type": "markdown",
   "metadata": {},
   "source": [
    "Finally!!!. From the look of things and depending on the scoring metric we decide to use.\n",
    "- LightGBM turned out to be the best when accuracy is being considered.\n",
    "- ExtraTrees is best when precision is being considered.\n",
    "- LightGBM when cosidering Recall or TPR\n",
    "- LightGBM for F1_score"
   ]
  },
  {
   "cell_type": "code",
   "execution_count": 66,
   "metadata": {},
   "outputs": [],
   "source": [
    "etc_2 = ExtraTreesClassifier(bootstrap = False,\n",
    " ccp_alpha= 0.0,\n",
    " class_weight= None,\n",
    " criterion='gini',\n",
    " max_depth= None,\n",
    " max_features= None,\n",
    " max_leaf_nodes= None,\n",
    " max_samples= None,\n",
    " min_impurity_decrease= 0.0,\n",
    " min_impurity_split= None,\n",
    " min_samples_leaf= 8,\n",
    " min_samples_split= 2,\n",
    " min_weight_fraction_leaf= 0.0,\n",
    " n_estimators= 1000,\n",
    " n_jobs=None,\n",
    " oob_score= False,\n",
    " random_state= 1,\n",
    " verbose= 0,\n",
    " warm_start= False)\n",
    "etc_2.fit(x_train_scaled, y_train)\n",
    "etc_2_pred = etc_2.predict(x_test_scaled)\n",
    "etc_2_acc = accuracy_score(y_test, etc_2_pred)\n",
    "etc_2_precision = precision_score(y_test, etc_2_pred, pos_label='stable')\n",
    "etc_2_recall = recall_score(y_test, etc_2_pred, pos_label='stable')\n",
    "etc_2_f1score = f1_score(y_test, etc_2_pred, pos_label='stable')"
   ]
  },
  {
   "cell_type": "code",
   "execution_count": 67,
   "metadata": {},
   "outputs": [
    {
     "name": "stdout",
     "output_type": "stream",
     "text": [
      " etc_2_Accuracy: 0.927 \n",
      " etc_2_Precision:  0.9211309523809523 \n",
      " etc_2_Recall: 0.8693820224719101 \n",
      " etc_2_F1 Score: 0.8945086705202311\n"
     ]
    }
   ],
   "source": [
    "print(\" etc_2_Accuracy:\",etc_2_acc, \"\\n etc_2_Precision: \",etc_2_precision, \"\\n etc_2_Recall:\",etc_2_recall, \"\\n etc_2_F1 Score:\",etc_2_f1score)"
   ]
  },
  {
   "cell_type": "code",
   "execution_count": 74,
   "metadata": {},
   "outputs": [
    {
     "data": {
      "text/html": [
       "<div>\n",
       "<style scoped>\n",
       "    .dataframe tbody tr th:only-of-type {\n",
       "        vertical-align: middle;\n",
       "    }\n",
       "\n",
       "    .dataframe tbody tr th {\n",
       "        vertical-align: top;\n",
       "    }\n",
       "\n",
       "    .dataframe thead th {\n",
       "        text-align: right;\n",
       "    }\n",
       "</style>\n",
       "<table border=\"1\" class=\"dataframe\">\n",
       "  <thead>\n",
       "    <tr style=\"text-align: right;\">\n",
       "      <th></th>\n",
       "      <th>features</th>\n",
       "      <th>importance</th>\n",
       "    </tr>\n",
       "  </thead>\n",
       "  <tbody>\n",
       "    <tr>\n",
       "      <th>8</th>\n",
       "      <td>0.089783</td>\n",
       "      <td>g1</td>\n",
       "    </tr>\n",
       "    <tr>\n",
       "      <th>9</th>\n",
       "      <td>0.093676</td>\n",
       "      <td>g2</td>\n",
       "    </tr>\n",
       "    <tr>\n",
       "      <th>10</th>\n",
       "      <td>0.096883</td>\n",
       "      <td>g3</td>\n",
       "    </tr>\n",
       "    <tr>\n",
       "      <th>11</th>\n",
       "      <td>0.094019</td>\n",
       "      <td>g4</td>\n",
       "    </tr>\n",
       "    <tr>\n",
       "      <th>4</th>\n",
       "      <td>0.039507</td>\n",
       "      <td>p1</td>\n",
       "    </tr>\n",
       "    <tr>\n",
       "      <th>5</th>\n",
       "      <td>0.040371</td>\n",
       "      <td>p2</td>\n",
       "    </tr>\n",
       "    <tr>\n",
       "      <th>6</th>\n",
       "      <td>0.040706</td>\n",
       "      <td>p3</td>\n",
       "    </tr>\n",
       "    <tr>\n",
       "      <th>7</th>\n",
       "      <td>0.040579</td>\n",
       "      <td>p4</td>\n",
       "    </tr>\n",
       "    <tr>\n",
       "      <th>0</th>\n",
       "      <td>0.117397</td>\n",
       "      <td>tau1</td>\n",
       "    </tr>\n",
       "    <tr>\n",
       "      <th>1</th>\n",
       "      <td>0.118445</td>\n",
       "      <td>tau2</td>\n",
       "    </tr>\n",
       "    <tr>\n",
       "      <th>2</th>\n",
       "      <td>0.113169</td>\n",
       "      <td>tau3</td>\n",
       "    </tr>\n",
       "    <tr>\n",
       "      <th>3</th>\n",
       "      <td>0.115466</td>\n",
       "      <td>tau4</td>\n",
       "    </tr>\n",
       "  </tbody>\n",
       "</table>\n",
       "</div>"
      ],
      "text/plain": [
       "    features importance\n",
       "8   0.089783         g1\n",
       "9   0.093676         g2\n",
       "10  0.096883         g3\n",
       "11  0.094019         g4\n",
       "4   0.039507         p1\n",
       "5   0.040371         p2\n",
       "6   0.040706         p3\n",
       "7   0.040579         p4\n",
       "0   0.117397       tau1\n",
       "1   0.118445       tau2\n",
       "2   0.113169       tau3\n",
       "3   0.115466       tau4"
      ]
     },
     "execution_count": 74,
     "metadata": {},
     "output_type": "execute_result"
    }
   ],
   "source": [
    "etc_feat_importance = pd.DataFrame({'features': x_train_scaled.columns, 'importance': etc.feature_importances_})\n",
    "etc_feat_importance.sort_values('importance')"
   ]
  },
  {
   "cell_type": "code",
   "execution_count": null,
   "metadata": {},
   "outputs": [],
   "source": []
  }
 ],
 "metadata": {
  "kernelspec": {
   "display_name": "Python 3",
   "language": "python",
   "name": "python3"
  },
  "language_info": {
   "codemirror_mode": {
    "name": "ipython",
    "version": 3
   },
   "file_extension": ".py",
   "mimetype": "text/x-python",
   "name": "python",
   "nbconvert_exporter": "python",
   "pygments_lexer": "ipython3",
   "version": "3.7.4"
  }
 },
 "nbformat": 4,
 "nbformat_minor": 4
}
